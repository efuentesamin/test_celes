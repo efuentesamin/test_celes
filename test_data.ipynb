{
 "cells": [
  {
   "cell_type": "markdown",
   "id": "c3a0d0fd-2e95-454f-8458-7b9a004e2740",
   "metadata": {},
   "source": [
    "# Playing With Celes Data"
   ]
  },
  {
   "cell_type": "markdown",
   "id": "72488ce0-6118-489a-ab5e-2cc020842441",
   "metadata": {},
   "source": [
    "## Preparing environment"
   ]
  },
  {
   "cell_type": "markdown",
   "id": "b415a968-0077-4917-a68e-29b1d2064e9d",
   "metadata": {},
   "source": [
    "### Set the PySpark environment variables"
   ]
  },
  {
   "cell_type": "code",
   "execution_count": 5,
   "id": "e530f9c5-8140-4e6e-bb42-aaeab08faa92",
   "metadata": {},
   "outputs": [],
   "source": [
    "import os\n",
    "os.environ['SPARK_HOME'] = \"/Users/efuentesamin/spark\"\n",
    "os.environ['PYSPARK_DRIVER_PYTHON'] = 'jupyter'\n",
    "os.environ['PYSPARK_DRIVER_PYTHON_OPTS'] = 'lab'\n",
    "os.environ['PYSPARK_PYTHON'] = 'python'\n",
    "os.environ['SPARK_LOCAL_IP'] = '192.168.1.13'"
   ]
  },
  {
   "cell_type": "markdown",
   "id": "3539305e-df54-4986-a244-38c8d16d5cc7",
   "metadata": {},
   "source": [
    "### Install PySpark"
   ]
  },
  {
   "cell_type": "code",
   "execution_count": 4,
   "id": "5cf97039-fb35-4717-a6e8-e56891948a27",
   "metadata": {},
   "outputs": [
    {
     "name": "stdout",
     "output_type": "stream",
     "text": [
      "Collecting pyspark\n",
      "  Downloading pyspark-3.5.1.tar.gz (317.0 MB)\n",
      "\u001b[2K     \u001b[90m━━━━━━━━━━━━━━━━━━━━━━━━━━━━━━━━━━━━━━━\u001b[0m \u001b[32m317.0/317.0 MB\u001b[0m \u001b[31m3.4 MB/s\u001b[0m eta \u001b[36m0:00:00\u001b[0m00:01\u001b[0m00:01\u001b[0m\n",
      "\u001b[?25h  Preparing metadata (setup.py) ... \u001b[?25ldone\n",
      "\u001b[?25hCollecting py4j==0.10.9.7 (from pyspark)\n",
      "  Downloading py4j-0.10.9.7-py2.py3-none-any.whl.metadata (1.5 kB)\n",
      "Downloading py4j-0.10.9.7-py2.py3-none-any.whl (200 kB)\n",
      "\u001b[2K   \u001b[90m━━━━━━━━━━━━━━━━━━━━━━━━━━━━━━━━━━━━━━━━\u001b[0m \u001b[32m200.5/200.5 kB\u001b[0m \u001b[31m5.7 MB/s\u001b[0m eta \u001b[36m0:00:00\u001b[0mta \u001b[36m0:00:01\u001b[0m\n",
      "\u001b[?25hBuilding wheels for collected packages: pyspark\n",
      "  Building wheel for pyspark (setup.py) ... \u001b[?25ldone\n",
      "\u001b[?25h  Created wheel for pyspark: filename=pyspark-3.5.1-py2.py3-none-any.whl size=317488491 sha256=1e2bb37d6cc65c4100f949d5d98f3fc0523d806c54f9d7b45c1d0763246b890a\n",
      "  Stored in directory: /Users/efuentesamin/Library/Caches/pip/wheels/95/13/41/f7f135ee114175605fb4f0a89e7389f3742aa6c1e1a5bcb657\n",
      "Successfully built pyspark\n",
      "Installing collected packages: py4j, pyspark\n",
      "Successfully installed py4j-0.10.9.7 pyspark-3.5.1\n",
      "Note: you may need to restart the kernel to use updated packages.\n"
     ]
    }
   ],
   "source": [
    "pip install pyspark"
   ]
  },
  {
   "cell_type": "markdown",
   "id": "5c171b5f-a97d-43d6-b080-795479b5eaf8",
   "metadata": {},
   "source": [
    "### Import PySpark Session"
   ]
  },
  {
   "cell_type": "code",
   "execution_count": 6,
   "id": "65c6c334-3f82-4f62-a7d4-7df4c638e396",
   "metadata": {},
   "outputs": [],
   "source": [
    "from pyspark.sql import SparkSession"
   ]
  },
  {
   "cell_type": "markdown",
   "id": "a7832f05-52bf-489f-85ed-57449965d423",
   "metadata": {},
   "source": [
    "### Create a SparkSession"
   ]
  },
  {
   "cell_type": "code",
   "execution_count": 7,
   "id": "e5264339-bde6-41f1-b7a2-e6970b804567",
   "metadata": {},
   "outputs": [
    {
     "name": "stderr",
     "output_type": "stream",
     "text": [
      "Setting default log level to \"WARN\".\n",
      "To adjust logging level use sc.setLogLevel(newLevel). For SparkR, use setLogLevel(newLevel).\n",
      "24/06/08 18:34:25 WARN NativeCodeLoader: Unable to load native-hadoop library for your platform... using builtin-java classes where applicable\n"
     ]
    }
   ],
   "source": [
    "spark = SparkSession.builder \\\n",
    "    .appName(\"Playing-With-Celes-Data\") \\\n",
    "    .getOrCreate()\n",
    "sc = spark.sparkContext\n",
    "sc.setLogLevel(\"WARN\")"
   ]
  },
  {
   "cell_type": "markdown",
   "id": "ec69a9ae-562b-4a11-8498-d85dab0f6d1f",
   "metadata": {},
   "source": [
    "## Playing with data"
   ]
  },
  {
   "cell_type": "markdown",
   "id": "aa92a938-17a4-4799-8f99-2bed7d3c398c",
   "metadata": {},
   "source": [
    "### Load datamart"
   ]
  },
  {
   "cell_type": "code",
   "execution_count": 8,
   "id": "e6cff5ea-0d76-4488-a5b4-6a1170803b82",
   "metadata": {},
   "outputs": [
    {
     "name": "stderr",
     "output_type": "stream",
     "text": [
      "24/06/08 18:34:46 WARN SparkStringUtils: Truncated the string representation of a plan since it was too large. This behavior can be adjusted by setting 'spark.sql.debug.maxToStringFields'.\n"
     ]
    }
   ],
   "source": [
    "df = spark.read.parquet('./data')"
   ]
  },
  {
   "cell_type": "code",
   "execution_count": 9,
   "id": "dce207eb-eb7a-4ac3-8406-f73f5b2f69d9",
   "metadata": {},
   "outputs": [
    {
     "name": "stderr",
     "output_type": "stream",
     "text": [
      "                                                                                \r"
     ]
    },
    {
     "name": "stdout",
     "output_type": "stream",
     "text": [
      "-RECORD 0----------------------------\n",
      " KeySale      | 5540A1C6-1E83-EE1... \n",
      " KeyDate      | 2023-11-14           \n",
      " KeyStore     | 1|007                \n",
      " KeyWarehouse | 1|1008               \n",
      " KeyCustomer  | 1|POS|32694425       \n",
      " KeyProduct   | 1|60925              \n",
      " KeyEmployee  | 1|417                \n",
      " KeyCurrency  | 1|COP                \n",
      " KeyDivision  | 1                    \n",
      " KeyTicket    | 1|F01-00322372       \n",
      " KeyCedi      | 1|1                  \n",
      " TicketId     | F01-00322372         \n",
      " Qty          | 1.0                  \n",
      " Amount       | 28487.4              \n",
      " CostAmount   | 8557.97              \n",
      " DiscAmount   | 0.0                  \n",
      " Tickets      | {5540A1C6-1E83-EE... \n",
      " Products     | {CORPORAL        ... \n",
      " Customers    | {1|POS|32694425, ... \n",
      " Employees    | {1|417, 417, 1, G... \n",
      " Stores       | {1|007, 1, 007, P... \n",
      " Divisions    | {1, 1, DROGUERIAS... \n",
      " Time         | {2023-11-14, 2023... \n",
      " Cedis        | {1|1, 1, 1, Cedi ... \n",
      "only showing top 1 row\n",
      "\n"
     ]
    }
   ],
   "source": [
    "df.show(1, vertical=True)"
   ]
  },
  {
   "cell_type": "markdown",
   "id": "6203e981-d6b9-4c54-9916-ff0f11e789d0",
   "metadata": {},
   "source": [
    "### Get schema"
   ]
  },
  {
   "cell_type": "code",
   "execution_count": 10,
   "id": "6702894d-058c-44f7-a820-d6cf2a4de71f",
   "metadata": {
    "scrolled": true
   },
   "outputs": [
    {
     "name": "stdout",
     "output_type": "stream",
     "text": [
      "root\n",
      " |-- KeySale: string (nullable = true)\n",
      " |-- KeyDate: date (nullable = true)\n",
      " |-- KeyStore: string (nullable = true)\n",
      " |-- KeyWarehouse: string (nullable = true)\n",
      " |-- KeyCustomer: string (nullable = true)\n",
      " |-- KeyProduct: string (nullable = true)\n",
      " |-- KeyEmployee: string (nullable = true)\n",
      " |-- KeyCurrency: string (nullable = true)\n",
      " |-- KeyDivision: string (nullable = true)\n",
      " |-- KeyTicket: string (nullable = true)\n",
      " |-- KeyCedi: string (nullable = true)\n",
      " |-- TicketId: string (nullable = true)\n",
      " |-- Qty: double (nullable = true)\n",
      " |-- Amount: double (nullable = true)\n",
      " |-- CostAmount: double (nullable = true)\n",
      " |-- DiscAmount: double (nullable = true)\n",
      " |-- Tickets: struct (nullable = true)\n",
      " |    |-- KeySale: string (nullable = true)\n",
      " |    |-- KeyDivision: string (nullable = true)\n",
      " |    |-- KeyDate: date (nullable = true)\n",
      " |    |-- OrderDate: date (nullable = true)\n",
      " |    |-- KeyEmployee: string (nullable = true)\n",
      " |    |-- KeyCustomer: string (nullable = true)\n",
      " |    |-- KeyStore: string (nullable = true)\n",
      " |    |-- KeyProduct: string (nullable = true)\n",
      " |    |-- KeyCurrency: string (nullable = true)\n",
      " |    |-- KeyWarehouse: string (nullable = true)\n",
      " |    |-- KeyTicket: string (nullable = true)\n",
      " |    |-- KeyCedi: string (nullable = true)\n",
      " |    |-- TicketTimestamp: timestamp_ntz (nullable = true)\n",
      " |    |-- TicketId: string (nullable = true)\n",
      " |    |-- Qty: double (nullable = true)\n",
      " |    |-- QtyDemanded: double (nullable = true)\n",
      " |    |-- Amount: double (nullable = true)\n",
      " |    |-- Price: double (nullable = true)\n",
      " |    |-- GrossAmount: double (nullable = true)\n",
      " |    |-- DiscAmount: double (nullable = true)\n",
      " |    |-- TaxAmount: double (nullable = true)\n",
      " |    |-- NetAmount: double (nullable = true)\n",
      " |    |-- CashRegisterAmount: double (nullable = true)\n",
      " |    |-- UnitCostAmount: double (nullable = true)\n",
      " |    |-- CostAmount: double (nullable = true)\n",
      " |    |-- TicketClass: string (nullable = true)\n",
      " |    |-- PaymentCondition: string (nullable = true)\n",
      " |    |-- ClosingDate: date (nullable = true)\n",
      " |    |-- TicketType: string (nullable = true)\n",
      " |    |-- SalesMotiv: string (nullable = true)\n",
      " |    |-- ConceptId: string (nullable = true)\n",
      " |    |-- IdTipoInvServ: string (nullable = true)\n",
      " |-- Products: struct (nullable = true)\n",
      " |    |-- SubCategoryName: string (nullable = true)\n",
      " |    |-- CategoryName: string (nullable = true)\n",
      " |    |-- BussinessUnit: string (nullable = true)\n",
      " |    |-- BrandName: string (nullable = true)\n",
      " |    |-- KeyProduct: string (nullable = true)\n",
      " |    |-- KeyDivision: string (nullable = true)\n",
      " |    |-- ProductCode: string (nullable = true)\n",
      " |    |-- ProductName: string (nullable = true)\n",
      " |    |-- ClassName: long (nullable = true)\n",
      " |    |-- SubClassName: long (nullable = true)\n",
      " |    |-- ShortProductName: string (nullable = true)\n",
      " |    |-- Reference: string (nullable = true)\n",
      " |    |-- SaleUnit: string (nullable = true)\n",
      " |    |-- PurchaseUnit: string (nullable = true)\n",
      " |    |-- DistributionUnit: string (nullable = true)\n",
      " |    |-- DistributionToSaleUnitConversionFactor: long (nullable = true)\n",
      " |    |-- PurchaseToSaleUnitConversionFactor: double (nullable = true)\n",
      " |    |-- ProductType: string (nullable = true)\n",
      " |    |-- ProductGroupingForABC: long (nullable = true)\n",
      " |    |-- AggregationCategory: long (nullable = true)\n",
      " |    |-- AggregationGroupingForABC: long (nullable = true)\n",
      " |    |-- ProductStatus: string (nullable = true)\n",
      " |    |-- f120_ts: string (nullable = true)\n",
      " |    |-- f120_id_cia: string (nullable = true)\n",
      " |    |-- f120_id: string (nullable = true)\n",
      " |    |-- f120_rowid: string (nullable = true)\n",
      " |    |-- f120_referencia: string (nullable = true)\n",
      " |    |-- f120_descripcion: string (nullable = true)\n",
      " |    |-- f120_descripcion_corta: string (nullable = true)\n",
      " |    |-- f120_id_grupo_impositivo: string (nullable = true)\n",
      " |    |-- f120_id_tipo_inv_serv: string (nullable = true)\n",
      " |    |-- f120_id_grupo_dscto: string (nullable = true)\n",
      " |    |-- f120_ind_tipo_item: string (nullable = true)\n",
      " |    |-- f120_ind_compra: string (nullable = true)\n",
      " |    |-- f120_ind_venta: string (nullable = true)\n",
      " |    |-- f120_ind_manufactura: string (nullable = true)\n",
      " |    |-- f120_ind_lista_precios_ext: string (nullable = true)\n",
      " |    |-- f120_ind_lote: string (nullable = true)\n",
      " |    |-- f120_ind_lote_asignacion: string (nullable = true)\n",
      " |    |-- f120_ind_sobrecostos: string (nullable = true)\n",
      " |    |-- f120_vida_util: string (nullable = true)\n",
      " |    |-- f120_rowid_tercero_prov: string (nullable = true)\n",
      " |    |-- f120_id_sucursal_prov: string (nullable = true)\n",
      " |    |-- f120_rowid_tercero_cli: string (nullable = true)\n",
      " |    |-- f120_id_sucursal_cli: string (nullable = true)\n",
      " |    |-- f120_id_unidad_inventario: string (nullable = true)\n",
      " |    |-- f120_id_unidad_adicional: string (nullable = true)\n",
      " |    |-- f120_id_unidad_orden: string (nullable = true)\n",
      " |    |-- f120_id_unidad_empaque: string (nullable = true)\n",
      " |    |-- f120_id_descripcion_tecnica: string (nullable = true)\n",
      " |    |-- f120_id_extension1: string (nullable = true)\n",
      " |    |-- f120_id_extension2: string (nullable = true)\n",
      " |    |-- f120_rowid_foto: string (nullable = true)\n",
      " |    |-- f120_notas: string (nullable = true)\n",
      " |    |-- f120_id_segmento_costo: string (nullable = true)\n",
      " |    |-- f120_usuario_creacion: string (nullable = true)\n",
      " |    |-- f120_usuario_actualizacion: string (nullable = true)\n",
      " |    |-- f120_fecha_creacion: string (nullable = true)\n",
      " |    |-- f120_fecha_actualizacion: string (nullable = true)\n",
      " |    |-- f120_ind_serial: string (nullable = true)\n",
      " |    |-- f120_id_cfg_serial: string (nullable = true)\n",
      " |    |-- f120_ind_paquete: string (nullable = true)\n",
      " |    |-- f120_rowid_movto_entidad: string (nullable = true)\n",
      " |    |-- f120_ind_exento: string (nullable = true)\n",
      " |    |-- f120_ind_venta_interno: string (nullable = true)\n",
      " |    |-- f120_ind_generico: string (nullable = true)\n",
      " |    |-- f120_ind_gum_unificado: string (nullable = true)\n",
      " |    |-- f120_id_unidad_precio: string (nullable = true)\n",
      " |    |-- f120_ind_controlado: string (nullable = true)\n",
      " |    |-- f121_ts: string (nullable = true)\n",
      " |    |-- f121_id_cia: string (nullable = true)\n",
      " |    |-- f121_rowid: string (nullable = true)\n",
      " |    |-- f121_rowid_item: string (nullable = true)\n",
      " |    |-- f121_id_ext1_detalle: string (nullable = true)\n",
      " |    |-- f121_id_ext2_detalle: string (nullable = true)\n",
      " |    |-- f121_ind_estado: string (nullable = true)\n",
      " |    |-- f121_fecha_inactivacion: string (nullable = true)\n",
      " |    |-- f121_fecha_creacion: string (nullable = true)\n",
      " |    |-- f121_rowid_foto: string (nullable = true)\n",
      " |    |-- f121_notas: string (nullable = true)\n",
      " |    |-- f121_usuario_inactivacion: string (nullable = true)\n",
      " |    |-- f121_usuario_creacion: string (nullable = true)\n",
      " |    |-- f121_usuario_actualizacion: string (nullable = true)\n",
      " |    |-- f121_fecha_actualizacion: string (nullable = true)\n",
      " |    |-- f121_id_extension1: string (nullable = true)\n",
      " |    |-- f121_id_extension2: string (nullable = true)\n",
      " |    |-- f121_rowid_movto_entidad: string (nullable = true)\n",
      " |    |-- f121_porc_max_exceso_kit: string (nullable = true)\n",
      " |    |-- f121_porc_min_exceso_kit: string (nullable = true)\n",
      " |    |-- f121_id_unidad_validacion_kit: string (nullable = true)\n",
      " |    |-- f121_id_barras_principal: string (nullable = true)\n",
      " |    |-- f121_id_plan_kit: string (nullable = true)\n",
      " |    |-- f121_rowid_item_ext_gen: string (nullable = true)\n",
      " |    |-- f121_ind_gum_unificado: string (nullable = true)\n",
      " |    |-- f122_id_unidad_inv: string (nullable = true)\n",
      " |    |-- f122_factor_inv: string (nullable = true)\n",
      " |    |-- f122_peso_inv: string (nullable = true)\n",
      " |    |-- f122_volumen_inv: string (nullable = true)\n",
      " |    |-- f122_id_unidad_emp: string (nullable = true)\n",
      " |    |-- f122_factor_emp: string (nullable = true)\n",
      " |    |-- f122_peso_emp: string (nullable = true)\n",
      " |    |-- f122_volumen_emp: string (nullable = true)\n",
      " |    |-- f149_ts: string (nullable = true)\n",
      " |    |-- f149_id_cia: string (nullable = true)\n",
      " |    |-- f149_id: string (nullable = true)\n",
      " |    |-- f149_descripcion: string (nullable = true)\n",
      " |    |-- f149_ind_contabilizacion_costo: string (nullable = true)\n",
      " |    |-- f149_ind_clase: string (nullable = true)\n",
      " |    |-- f149_ind_ajustable: string (nullable = true)\n",
      " |    |-- f149_ind_depreciable: string (nullable = true)\n",
      " |    |-- f149_ind_contabiliza: string (nullable = true)\n",
      " |    |-- f149_ind_lote: string (nullable = true)\n",
      " |    |-- f149_ind_lote_asignacion: string (nullable = true)\n",
      " |    |-- f149_ind_extension: string (nullable = true)\n",
      " |    |-- f149_id_extension1: string (nullable = true)\n",
      " |    |-- f149_id_extension2: string (nullable = true)\n",
      " |    |-- f149_vida_util: string (nullable = true)\n",
      " |    |-- f149_notas: string (nullable = true)\n",
      " |    |-- f149_tipo_equiv: string (nullable = true)\n",
      " |    |-- f149_rowid_movto_entidad: string (nullable = true)\n",
      " |    |-- f149_ind_ajuste_vnr: string (nullable = true)\n",
      " |    |-- f149_ind_desc_variable: string (nullable = true)\n",
      " |    |-- f149_ind_recalcular_um_adic: string (nullable = true)\n",
      " |    |-- f149_ind_gum_unificado: string (nullable = true)\n",
      " |    |-- f125_id_cia: string (nullable = true)\n",
      " |    |-- f125_rowid_item: string (nullable = true)\n",
      " |    |-- f_SUBSEGMENTO: string (nullable = true)\n",
      " |    |-- f_TIPO_ITEM: string (nullable = true)\n",
      " |    |-- f_SUBCATEGORIA: string (nullable = true)\n",
      " |    |-- f_PROVEEDOR: string (nullable = true)\n",
      " |    |-- f_LINEA: string (nullable = true)\n",
      " |    |-- f_ITEMS_AUTORIZADOS__VENTA_TIENDA_VIRTUAL: string (nullable = true)\n",
      " |    |-- f_MARCADO_ESPECIAL: string (nullable = true)\n",
      " |    |-- f_GRUPO: string (nullable = true)\n",
      " |    |-- f_ACUMULADOR: string (nullable = true)\n",
      " |    |-- f_UNIDAD_DE_NEGOCIO: string (nullable = true)\n",
      " |    |-- f_CATEGORIA: string (nullable = true)\n",
      " |    |-- f_GENERO: string (nullable = true)\n",
      " |    |-- f_PRODUCCION_UBIC: string (nullable = true)\n",
      " |    |-- f_PARA_VENTA_EN: string (nullable = true)\n",
      " |    |-- f_PORTAFOLIO___PLANEACION: string (nullable = true)\n",
      " |    |-- f_SEGMENTO: string (nullable = true)\n",
      " |    |-- f_VENTAS_EXENTAS_DEC_417_MARZO_17_2020: string (nullable = true)\n",
      " |    |-- f_TIPO_INVENTARIO: string (nullable = true)\n",
      " |    |-- f_MINAGRICULTURA: string (nullable = true)\n",
      " |    |-- f_CONTENIDO: string (nullable = true)\n",
      " |    |-- ProductPrice: double (nullable = true)\n",
      " |-- Customers: struct (nullable = true)\n",
      " |    |-- KeyCustomer: string (nullable = true)\n",
      " |    |-- CustomerCode: string (nullable = true)\n",
      " |    |-- KeyDivision: string (nullable = true)\n",
      " |    |-- CustomerName: string (nullable = true)\n",
      " |    |-- FullName: string (nullable = true)\n",
      " |    |-- FullNameAux: string (nullable = true)\n",
      " |    |-- DNIType: string (nullable = true)\n",
      " |    |-- DNI: string (nullable = true)\n",
      " |    |-- DateOfBirthday: timestamp_ntz (nullable = true)\n",
      " |    |-- MonthOfBirthday: string (nullable = true)\n",
      " |    |-- CreationDate: timestamp_ntz (nullable = true)\n",
      " |    |-- Description: string (nullable = true)\n",
      " |    |-- Gender: string (nullable = true)\n",
      " |    |-- Phone: string (nullable = true)\n",
      " |    |-- Email: string (nullable = true)\n",
      " |    |-- CustomerType: string (nullable = true)\n",
      " |    |-- Recency: long (nullable = true)\n",
      " |    |-- Frequency: long (nullable = true)\n",
      " |    |-- Sales: double (nullable = true)\n",
      " |    |-- AverageTicket: double (nullable = true)\n",
      " |    |-- Seniority: double (nullable = true)\n",
      " |    |-- Discount: double (nullable = true)\n",
      " |    |-- RecencyLabel: string (nullable = true)\n",
      " |    |-- RecencyMin: string (nullable = true)\n",
      " |    |-- RecencyMax: string (nullable = true)\n",
      " |    |-- FrequencyLabel: string (nullable = true)\n",
      " |    |-- FrequencyMin: string (nullable = true)\n",
      " |    |-- FrequencyMax: string (nullable = true)\n",
      " |    |-- MonetaryLabel: string (nullable = true)\n",
      " |    |-- MonetaryMin: string (nullable = true)\n",
      " |    |-- MonetaryMax: string (nullable = true)\n",
      " |    |-- Cluster: long (nullable = true)\n",
      " |    |-- TotalScore: double (nullable = true)\n",
      " |    |-- Churn: string (nullable = true)\n",
      " |    |-- ChurnProba: double (nullable = true)\n",
      " |    |-- ChurnStatus: string (nullable = true)\n",
      " |    |-- MUB_Segment: string (nullable = true)\n",
      " |    |-- MonthsSinceLastPurchase: long (nullable = true)\n",
      " |-- Employees: struct (nullable = true)\n",
      " |    |-- KeyEmployee: string (nullable = true)\n",
      " |    |-- EmployeeCode: string (nullable = true)\n",
      " |    |-- KeyDivision: string (nullable = true)\n",
      " |    |-- EmployeeName: string (nullable = true)\n",
      " |    |-- JobPosition: long (nullable = true)\n",
      " |    |-- f210_id_cia: string (nullable = true)\n",
      " |    |-- f210_id: string (nullable = true)\n",
      " |    |-- f210_rowid_tercero: string (nullable = true)\n",
      " |    |-- f210_id_portafolio: string (nullable = true)\n",
      " |    |-- f210_ind_vendedor: string (nullable = true)\n",
      " |    |-- f210_ind_cobrador: string (nullable = true)\n",
      " |    |-- f210_rowid_terc_supervisor: string (nullable = true)\n",
      " |    |-- f210_id_clase_vend: string (nullable = true)\n",
      " |    |-- f210_ind_gum_unificado: string (nullable = true)\n",
      " |    |-- f210_id_terc_supervisor: string (nullable = true)\n",
      " |    |-- f200_id_cia: string (nullable = true)\n",
      " |    |-- f200_rowid: string (nullable = true)\n",
      " |    |-- f200_id: string (nullable = true)\n",
      " |    |-- f200_nit: string (nullable = true)\n",
      " |    |-- f200_dv_nit: string (nullable = true)\n",
      " |    |-- f200_id_tipo_ident: string (nullable = true)\n",
      " |    |-- f200_ind_tipo_tercero: string (nullable = true)\n",
      " |    |-- f200_razon_social: string (nullable = true)\n",
      " |    |-- f200_apellido1: string (nullable = true)\n",
      " |    |-- f200_apellido2: string (nullable = true)\n",
      " |    |-- f200_nombres: string (nullable = true)\n",
      " |    |-- f200_rowid_contacto: string (nullable = true)\n",
      " |    |-- f200_ind_cliente: string (nullable = true)\n",
      " |    |-- f200_ind_proveedor: string (nullable = true)\n",
      " |    |-- f200_ind_empleado: string (nullable = true)\n",
      " |    |-- f200_ind_accionista: string (nullable = true)\n",
      " |    |-- f200_ind_otros: string (nullable = true)\n",
      " |    |-- f200_ind_interno: string (nullable = true)\n",
      " |    |-- f200_nombre_est: string (nullable = true)\n",
      " |    |-- f200_fecha_nacimiento: string (nullable = true)\n",
      " |    |-- f200_id_ciiu: string (nullable = true)\n",
      " |    |-- f200_rowid_movto_entidad: string (nullable = true)\n",
      " |    |-- f200_ind_estado: string (nullable = true)\n",
      " |    |-- f200_rowid_foto: string (nullable = true)\n",
      " |    |-- f200_ind_no_domiciliado: string (nullable = true)\n",
      " |    |-- f200_ts: string (nullable = true)\n",
      " |    |-- f200_ind_gum_unificado: string (nullable = true)\n",
      " |-- Stores: struct (nullable = true)\n",
      " |    |-- KeyStore: string (nullable = true)\n",
      " |    |-- KeyDivision: string (nullable = true)\n",
      " |    |-- StoreCode: string (nullable = true)\n",
      " |    |-- StoreName: string (nullable = true)\n",
      " |    |-- Country: long (nullable = true)\n",
      " |    |-- Province: long (nullable = true)\n",
      " |    |-- City: long (nullable = true)\n",
      " |    |-- StoreType: string (nullable = true)\n",
      " |    |-- f285_id_cia: string (nullable = true)\n",
      " |    |-- f285_id: string (nullable = true)\n",
      " |    |-- f285_descripcion: string (nullable = true)\n",
      " |    |-- f285_id_regional: string (nullable = true)\n",
      " |    |-- f285_ind_estado: string (nullable = true)\n",
      " |    |-- f285_rowid_contacto: string (nullable = true)\n",
      " |    |-- f285_ind_ctrl_ppto_consumos: string (nullable = true)\n",
      " |    |-- f285_ind_ctrl_ppto_compras: string (nullable = true)\n",
      " |    |-- f285_id_portafolio: string (nullable = true)\n",
      " |    |-- f285_ts: string (nullable = true)\n",
      " |    |-- f285_id_cargue_vta: string (nullable = true)\n",
      " |    |-- f285_ind_fecha_ppto_compras: string (nullable = true)\n",
      " |    |-- f285_ind_fecha_ppto_consumo: string (nullable = true)\n",
      " |    |-- f285_ind_ctrl_ppto_ventas: string (nullable = true)\n",
      " |    |-- f285_ind_fecha_ppto_ventas: string (nullable = true)\n",
      " |    |-- f285_rowid_movto_entidad: string (nullable = true)\n",
      " |    |-- f285_ind_ppto_compras_dev: string (nullable = true)\n",
      " |    |-- f285_ind_ppto_ventas_dev: string (nullable = true)\n",
      " |    |-- f285_ind_ppto_compras_exige: string (nullable = true)\n",
      " |    |-- f285_ind_ppto_consumo_exige: string (nullable = true)\n",
      " |    |-- f285_ind_ppto_ventas_exige: string (nullable = true)\n",
      " |    |-- f285_ind_ctrl_ppto_obra: string (nullable = true)\n",
      " |    |-- f285_ind_fecha_ppto_obra: string (nullable = true)\n",
      " |-- Divisions: struct (nullable = true)\n",
      " |    |-- KeyDivision: string (nullable = true)\n",
      " |    |-- DivisionCode: string (nullable = true)\n",
      " |    |-- DivisionName: string (nullable = true)\n",
      " |    |-- f010_id: string (nullable = true)\n",
      " |    |-- f010_razon_social: string (nullable = true)\n",
      " |    |-- f010_nit: string (nullable = true)\n",
      " |    |-- f010_ind_estado: string (nullable = true)\n",
      " |    |-- f010_ind_consolidadora: string (nullable = true)\n",
      " |    |-- f010_max_per_abiertos: string (nullable = true)\n",
      " |    |-- f010_ult_per_abierto: string (nullable = true)\n",
      " |    |-- f010_ult_per_cerrado: string (nullable = true)\n",
      " |    |-- f010_ult_ano_cerrado: string (nullable = true)\n",
      " |    |-- f010_numero_periodos: string (nullable = true)\n",
      " |    |-- f010_ind_dias: string (nullable = true)\n",
      " |    |-- f010_ind_diferido: string (nullable = true)\n",
      " |    |-- f010_ind_inflacion: string (nullable = true)\n",
      " |    |-- f010_ind_dif_cambio: string (nullable = true)\n",
      " |    |-- f010_ind_dist_costos: string (nullable = true)\n",
      " |    |-- f010_ind_depreciacion_af: string (nullable = true)\n",
      " |    |-- f010_ind_consecutivo_af: string (nullable = true)\n",
      " |    |-- f010_consecutivo_af: string (nullable = true)\n",
      " |    |-- f010_rowid_contacto: string (nullable = true)\n",
      " |    |-- f010_id_moneda_local: string (nullable = true)\n",
      " |    |-- f010_id_moneda_conversion: string (nullable = true)\n",
      " |    |-- f010_id_plan_cuentas: string (nullable = true)\n",
      " |    |-- f010_rowid_tercero_contab: string (nullable = true)\n",
      " |    |-- f010_rowid_ccosto_generico: string (nullable = true)\n",
      " |    |-- f010_rowid_aux_desc_ventas: string (nullable = true)\n",
      " |    |-- f010_rowid_aux_desc_compras: string (nullable = true)\n",
      " |    |-- f010_rowid_aux_aprovecha: string (nullable = true)\n",
      " |    |-- f010_rowid_aux_dif_compras: string (nullable = true)\n",
      " |    |-- f010_rowid_aux_gyp: string (nullable = true)\n",
      " |    |-- f010_rowid_ccosto_desc_ventas: string (nullable = true)\n",
      " |    |-- f010_rowid_ccosto_desc_compras: string (nullable = true)\n",
      " |    |-- f010_rowid_ccosto_aprovecha: string (nullable = true)\n",
      " |    |-- f010_rowid_ccosto_dif_compras: string (nullable = true)\n",
      " |    |-- f010_rowid_fe_generico: string (nullable = true)\n",
      " |    |-- f010_max_aprovecha: string (nullable = true)\n",
      " |    |-- f010_max_dif_compras: string (nullable = true)\n",
      " |    |-- f010_num_resol_gc: string (nullable = true)\n",
      " |    |-- f010_fecha_resol_gc: string (nullable = true)\n",
      " |    |-- f010_num_resol_autorete: string (nullable = true)\n",
      " |    |-- f010_fecha_resol_autorete: string (nullable = true)\n",
      " |    |-- f010_ind_cdp: string (nullable = true)\n",
      " |    |-- f010_id_plan_rubro_ppto: string (nullable = true)\n",
      " |    |-- f010_id_plan_rubro_ccosto: string (nullable = true)\n",
      " |    |-- f010_notas: string (nullable = true)\n",
      " |    |-- f010_ciiu: string (nullable = true)\n",
      " |    |-- f010_dv_nit: string (nullable = true)\n",
      " |    |-- f010_ind_dist_cuentas: string (nullable = true)\n",
      " |    |-- f010_ind_reg_fijos: string (nullable = true)\n",
      " |    |-- f010_ind_trans_cta_puente_af: string (nullable = true)\n",
      " |    |-- f010_ind_ppto_oc: string (nullable = true)\n",
      " |    |-- f010_id_plan_ppto_oc: string (nullable = true)\n",
      " |    |-- f010_ind_valida_periodo_oc: string (nullable = true)\n",
      " |    |-- f010_ind_valida_co_oc: string (nullable = true)\n",
      " |    |-- f010_ind_valida_un_oc: string (nullable = true)\n",
      " |    |-- f010_nivel_ccosto_oc: string (nullable = true)\n",
      " |    |-- f010_ind_fecha_periodo: string (nullable = true)\n",
      " |    |-- f010_path_postscript: string (nullable = true)\n",
      " |    |-- f010_rowid_aux_dif_compras_nd: string (nullable = true)\n",
      " |    |-- f010_rowid_ccosto_dif_comp_nd: string (nullable = true)\n",
      " |    |-- f010_max_dif_compras_nd: string (nullable = true)\n",
      " |    |-- f010_id_moneda_rx: string (nullable = true)\n",
      " |    |-- f010_ind_contabiliza_gastos: string (nullable = true)\n",
      " |    |-- f010_ind_co_gastos: string (nullable = true)\n",
      " |    |-- f010_ind_un_gastos: string (nullable = true)\n",
      " |    |-- f010_ind_ccosto_gastos: string (nullable = true)\n",
      " |    |-- f010_per_ini_rx: string (nullable = true)\n",
      " |    |-- f010_ind_calc_fecha_vcto: string (nullable = true)\n",
      " |    |-- f010_rowid_movto_entidad: string (nullable = true)\n",
      " |    |-- f010_rowid_aux_desc_comp2: string (nullable = true)\n",
      " |    |-- f010_rowid_ccosto_desc_comp2: string (nullable = true)\n",
      " |    |-- f010_rowid_aux_ingres_comp2: string (nullable = true)\n",
      " |    |-- f010_rowid_ccosto_ingres_comp2: string (nullable = true)\n",
      " |    |-- f010_ind_amort_inst_fn: string (nullable = true)\n",
      " |    |-- f010_id_concepto_ppago_gastos: string (nullable = true)\n",
      " |    |-- f010_id_motivo_ppago_gastos_fn: string (nullable = true)\n",
      " |    |-- f010_rowid_aux_desc_vtas2: string (nullable = true)\n",
      " |    |-- f010_rowid_ccosto_desc_vtas2: string (nullable = true)\n",
      " |    |-- f010_vlr_max_otros_ingresos: string (nullable = true)\n",
      " |    |-- f010_ind_depre_salva_af_1: string (nullable = true)\n",
      " |    |-- f010_ind_depre_salva_af_2: string (nullable = true)\n",
      " |    |-- f010_ind_pp_anticipo: string (nullable = true)\n",
      " |    |-- f010_ind_recalc_salva_af_2: string (nullable = true)\n",
      " |    |-- f010_ind_ppto_of_rp: string (nullable = true)\n",
      " |    |-- f010_ind_dif_cambio_rx: string (nullable = true)\n",
      " |    |-- f010_ind_libro_defecto: string (nullable = true)\n",
      " |    |-- f010_ind_libro1_visible: string (nullable = true)\n",
      " |    |-- f010_ind_libro2_visible: string (nullable = true)\n",
      " |    |-- f010_ind_libro3_visible: string (nullable = true)\n",
      " |    |-- f010_ind_estado_pago_cxp: string (nullable = true)\n",
      " |    |-- f010_ind_libro_dsto_fin_pp: string (nullable = true)\n",
      " |    |-- f010_ind_ret_co_movto: string (nullable = true)\n",
      " |    |-- f010_cant_anual_uvt_pago_efe: string (nullable = true)\n",
      " |    |-- f010_ind_imp_co_movto_cmp: string (nullable = true)\n",
      " |-- Time: struct (nullable = true)\n",
      " |    |-- KeyDate: date (nullable = true)\n",
      " |    |-- Datetime: timestamp_ntz (nullable = true)\n",
      " |    |-- Year: long (nullable = true)\n",
      " |    |-- Quarter: long (nullable = true)\n",
      " |    |-- Month: long (nullable = true)\n",
      " |    |-- Week: long (nullable = true)\n",
      " |    |-- Day: long (nullable = true)\n",
      " |    |-- DayOfYear: long (nullable = true)\n",
      " |    |-- DayOfWeek: string (nullable = true)\n",
      " |    |-- YearQuarter: string (nullable = true)\n",
      " |    |-- YearMonth: string (nullable = true)\n",
      " |    |-- YearWeek: string (nullable = true)\n",
      " |    |-- YearMonthDay: string (nullable = true)\n",
      " |    |-- MonthName: string (nullable = true)\n",
      " |    |-- MonthNameAbbr: string (nullable = true)\n",
      " |    |-- DayName: string (nullable = true)\n",
      " |    |-- DayNameAbbr: string (nullable = true)\n",
      " |-- Cedis: struct (nullable = true)\n",
      " |    |-- KeyCedi: string (nullable = true)\n",
      " |    |-- KeyDivision: string (nullable = true)\n",
      " |    |-- CediCode: string (nullable = true)\n",
      " |    |-- CediName: string (nullable = true)\n",
      " |    |-- CediOwner: string (nullable = true)\n",
      " |    |-- Country: string (nullable = true)\n",
      " |    |-- Province: string (nullable = true)\n",
      " |    |-- City: string (nullable = true)\n",
      " |    |-- Address: string (nullable = true)\n",
      "\n"
     ]
    }
   ],
   "source": [
    "df.printSchema()"
   ]
  },
  {
   "cell_type": "markdown",
   "id": "dd16614c-da98-453a-bcd3-b0a88535bb03",
   "metadata": {},
   "source": [
    "### Operations"
   ]
  },
  {
   "cell_type": "code",
   "execution_count": 19,
   "id": "b7995a63-ec39-43dd-b116-4d0b6501d699",
   "metadata": {},
   "outputs": [
    {
     "name": "stdout",
     "output_type": "stream",
     "text": [
      "+----------+\n",
      "|   KeyDate|\n",
      "+----------+\n",
      "|2023-10-03|\n",
      "+----------+\n",
      "only showing top 1 row\n",
      "\n"
     ]
    }
   ],
   "source": [
    "df.orderBy(df.KeyDate.asc()).select(df.KeyDate).show(1)"
   ]
  },
  {
   "cell_type": "code",
   "execution_count": 20,
   "id": "e0582139-023a-459b-8355-3d2034675079",
   "metadata": {},
   "outputs": [
    {
     "name": "stdout",
     "output_type": "stream",
     "text": [
      "+----------+\n",
      "|   KeyDate|\n",
      "+----------+\n",
      "|2023-11-30|\n",
      "+----------+\n",
      "only showing top 1 row\n",
      "\n"
     ]
    }
   ],
   "source": [
    "df.orderBy(df.KeyDate.desc()).select(df.KeyDate).show(1)"
   ]
  },
  {
   "cell_type": "code",
   "execution_count": 12,
   "id": "093c3d80-3608-43d1-97c4-8d28ce3ed29d",
   "metadata": {},
   "outputs": [],
   "source": [
    "from pyspark.sql.functions import *\n",
    "from pyspark.sql.types import *"
   ]
  },
  {
   "cell_type": "code",
   "execution_count": 15,
   "id": "f9f611ec-c59b-4313-8b2b-88b44a58fc6f",
   "metadata": {},
   "outputs": [],
   "source": [
    "dates = ('2023-10-03', '2023-11-30')"
   ]
  },
  {
   "cell_type": "code",
   "execution_count": 22,
   "id": "4d3f84eb-3752-4582-a159-194de7e4bb71",
   "metadata": {},
   "outputs": [
    {
     "name": "stdout",
     "output_type": "stream",
     "text": [
      "+--------------------+----------+--------+\n",
      "|             KeySale|   KeyDate|  Amount|\n",
      "+--------------------+----------+--------+\n",
      "|9ED3D5E9-A88F-EE1...|2023-11-30|12941.18|\n",
      "|4CF0C2FB-848F-EE1...|2023-11-30|54537.81|\n",
      "|48B126A6-8D8F-EE1...|2023-11-30| 3781.51|\n",
      "|1F0ECC78-8E8F-EE1...|2023-11-30| 2352.94|\n",
      "|0D3A8679-878F-EE1...|2023-11-30| 5798.32|\n",
      "|C0E0699D-A98F-EE1...|2023-11-30| 11500.0|\n",
      "|6B5BD463-AC8F-EE1...|2023-11-30| 8319.33|\n",
      "|1F0ECC78-8E8F-EE1...|2023-11-30| 3781.51|\n",
      "|0D3A8679-878F-EE1...|2023-11-30| 3781.51|\n",
      "|4130B566-C08F-EE1...|2023-11-30| 8235.29|\n",
      "+--------------------+----------+--------+\n",
      "\n"
     ]
    }
   ],
   "source": [
    "df.select('KeySale', 'KeyDate', 'Amount') \\\n",
    "    .filter((col('KeyEmployee') == '1|591') & (col('KeyDate').between(*dates))) \\\n",
    "    .orderBy(desc('KeyDate')) \\\n",
    "    .offset(0).limit(10) \\\n",
    "    .show()"
   ]
  },
  {
   "cell_type": "code",
   "execution_count": 23,
   "id": "9d6529c5-b631-4489-aaa9-29189fa92450",
   "metadata": {},
   "outputs": [
    {
     "name": "stdout",
     "output_type": "stream",
     "text": [
      "+--------+----------+--------------------+------------------+\n",
      "|KeyStore| StoreName|         TotalAmount|         AvgAmount|\n",
      "+--------+----------+--------------------+------------------+\n",
      "|   1|005| AMERICANO| 1.805872628700007E8|11743.221671868949|\n",
      "|   1|015|BOCAGRANDE| 1.765580215500002E8|15157.797179773368|\n",
      "|   1|098|CALLCENTER|1.5204748104000017E8| 27524.88795076035|\n",
      "|   1|008|  CALLE 29|2.0222230642999938E8| 14063.72532373596|\n",
      "|   1|006|   CALLE30|2.1416953741000015E8|14698.341734266703|\n",
      "|   1|022|   CALLE79|1.7855922616000035E8|14105.318442215053|\n",
      "|   1|004|   CALLE84|4.4964245264999795E8|16536.444141443786|\n",
      "|   1|021|   CALLE93| 2.803403881500005E8|14454.260796597087|\n",
      "|   1|003|    CENTRO| 2.362186489999996E8|13746.429760242063|\n",
      "|   1|009| EL AMPARO| 2.374517804700001E8| 11154.77899516137|\n",
      "+--------+----------+--------------------+------------------+\n",
      "\n"
     ]
    }
   ],
   "source": [
    "df.groupBy('KeyStore', 'Stores.StoreName') \\\n",
    "    .agg(sum('Amount').alias('TotalAmount'), avg('Amount').alias('AvgAmount')) \\\n",
    "    .orderBy(asc('Stores.StoreName')) \\\n",
    "    .offset(0).limit(10) \\\n",
    "    .show()"
   ]
  },
  {
   "cell_type": "code",
   "execution_count": 24,
   "id": "5405a40b-376a-49e2-acd3-10671bcfae24",
   "metadata": {},
   "outputs": [
    {
     "name": "stdout",
     "output_type": "stream",
     "text": [
      "+----------+--------------------+------------------+------------------+\n",
      "|KeyProduct|         ProductName|       TotalAmount|         AvgAmount|\n",
      "+----------+--------------------+------------------+------------------+\n",
      "|   1|62423|ACACIA DE LA INDI...|1337962.3400000008| 6137.441926605508|\n",
      "|   1|62425|ACACIA DE LA INDI...|         641138.22| 3771.401294117647|\n",
      "|   1|62426|ACACIA DE LA INDI...|         513403.54|        12835.0885|\n",
      "|   1|55136|ACAROL LOCION CUT...|          777400.0|           29900.0|\n",
      "|   1|62348|ACEITE AMBIENTAL ...|2051322.8999999997|12508.066463414632|\n",
      "|   1|62344|ACEITE AMBIENTAL ...|1541658.8699999996| 9882.428653846151|\n",
      "|   1|60322|ACEITE CORP NARAN...| 4646322.529999996| 7629.429441707711|\n",
      "|   1|60323|ACEITE CORP NARAN...| 5900296.720000003|17934.032583586635|\n",
      "|   1|60253|ACEITE CORP NARAN...| 779159.6799999999| 86573.29777777777|\n",
      "|   1|60324|ACEITE CORPORAL D...| 5873549.999999994|7520.5505761843715|\n",
      "+----------+--------------------+------------------+------------------+\n",
      "\n"
     ]
    }
   ],
   "source": [
    "df.groupBy('KeyProduct', 'Products.ProductName') \\\n",
    "    .agg(sum('Amount').alias('TotalAmount'), avg('Amount').alias('AvgAmount')) \\\n",
    "    .orderBy(asc('Products.ProductName')) \\\n",
    "    .offset(0).limit(10) \\\n",
    "    .show()"
   ]
  },
  {
   "cell_type": "code",
   "execution_count": 25,
   "id": "9b5f21cc-3fa6-47bf-8ac9-5fa6b35204b5",
   "metadata": {},
   "outputs": [
    {
     "name": "stdout",
     "output_type": "stream",
     "text": [
      "+-----------+--------------------+--------------------+------------------+\n",
      "|KeyEmployee|        EmployeeName|         TotalAmount|         AvgAmount|\n",
      "+-----------+--------------------+--------------------+------------------+\n",
      "|      1|591|ACOSTA FLOREZ FER...| 3.560228748999997E7|15378.957879049663|\n",
      "|      1|354|ACOSTA PATERNINA ...|1.4547493619999988E7|11130.446534047427|\n",
      "|    1|12208|ALTAMAR FANDIÑO P...|             3697.48|           3697.48|\n",
      "|      1|362|ALVAREZ SANCHEZ E...|          6837192.24| 17992.61115789474|\n",
      "|    1|17878|ALVAREZ VEGA BETT...|  3.40040724700001E7| 21952.27402840549|\n",
      "|    1|15934| ARANGO LOPEZ NATALI|                 0.0|               0.0|\n",
      "|    1|16473|ARIZA MARRIAGA LU...|  2.70248578000001E7|17674.857946370244|\n",
      "|     1|1141|ARRIETA ALVAREZ J...| 9.704634070999984E7| 14497.51131012845|\n",
      "|    1|17514|ARRIETA MUÑOZ MIT...|3.6227331560000114E7| 21222.80700644412|\n",
      "|    1|13496|BADILLO MARQUEZ M...|                 0.0|               0.0|\n",
      "+-----------+--------------------+--------------------+------------------+\n",
      "\n"
     ]
    }
   ],
   "source": [
    "df.groupBy('KeyEmployee', 'Employees.EmployeeName') \\\n",
    "    .agg(sum('Amount').alias('TotalAmount'), avg('Amount').alias('AvgAmount')) \\\n",
    "    .orderBy(asc('Employees.EmployeeName')) \\\n",
    "    .offset(0).limit(10) \\\n",
    "    .show()"
   ]
  },
  {
   "cell_type": "code",
   "execution_count": null,
   "id": "513371ef-c643-4f60-b901-0804a9a6ca15",
   "metadata": {},
   "outputs": [],
   "source": []
  }
 ],
 "metadata": {
  "kernelspec": {
   "display_name": "Python 3 (ipykernel)",
   "language": "python",
   "name": "python3"
  },
  "language_info": {
   "codemirror_mode": {
    "name": "ipython",
    "version": 3
   },
   "file_extension": ".py",
   "mimetype": "text/x-python",
   "name": "python",
   "nbconvert_exporter": "python",
   "pygments_lexer": "ipython3",
   "version": "3.11.9"
  }
 },
 "nbformat": 4,
 "nbformat_minor": 5
}
